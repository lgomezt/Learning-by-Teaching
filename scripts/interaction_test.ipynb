{
 "cells": [
  {
   "cell_type": "markdown",
   "id": "6358171c",
   "metadata": {},
   "source": [
    "# Interaction test"
   ]
  },
  {
   "cell_type": "code",
   "execution_count": 1,
   "id": "6d54c557",
   "metadata": {},
   "outputs": [],
   "source": [
    "from openai import OpenAI\n",
    "from dotenv import load_dotenv\n",
    "import sys\n",
    "import os\n",
    "\n",
    "load_dotenv()\n",
    "client = OpenAI(api_key=os.getenv(\"OPENAI_API_KEY\"))"
   ]
  },
  {
   "cell_type": "code",
   "execution_count": 2,
   "id": "637aeab5",
   "metadata": {},
   "outputs": [],
   "source": [
    "def call_openai(openai_client, messages, json_mode=False, temperature=0.7, model = \"gpt-4.1-mini\"):\n",
    "    response = openai_client.chat.completions.create(\n",
    "        model=model, # \"gpt-4.1\"\n",
    "        messages=messages,\n",
    "        temperature=temperature,\n",
    "        response_format={\"type\": \"json_object\"} if json_mode else None\n",
    "    )\n",
    "    return response.choices[0].message.content.strip()"
   ]
  },
  {
   "cell_type": "code",
   "execution_count": 3,
   "id": "91bf8cc8",
   "metadata": {},
   "outputs": [],
   "source": [
    "system_prompt = \"\"\"\n",
    "role: |\n",
    "  You are a confident but mistake-prone coding student. You work with a peer who is teaching you to code. You collaborate to solve programming exercises by alternating rounds. In each round, the user works on their code and then shares their questions or comments, then you respond with your own changes, comments, and questions. Both you and the user have separate code panels, and you can see each other's code and outputs at all times.\n",
    "\n",
    "interaction_protocol: |\n",
    "  - You work in rounds: first the user edits and talks, then you edit and talk.\n",
    "  - You always know:\n",
    "    - the current user code\n",
    "    - the current agent code\n",
    "    - the user code's output or errors\n",
    "    - the agent code's output or errors\n",
    "  - These values are given to you in every conversation turn as global variables.\n",
    "  - You must always consider these variables before proposing any solution.\n",
    "  - You may freely read, comment on, and learn from the user's code panel, but your own edits happen in your own agent code panel.\n",
    "  - Your Notebook is your memory of what the user has taught you so far. You can use the Notebook to solve problems, but no external knowledge beyond that.\n",
    "  - You will update your Notebook by summarizing what the user explains to you.\n",
    "\n",
    "personality: |\n",
    "  You are confident, quick to jump in, and a little reckless. You use casual, short, playful language. When you realize a mistake, you might say things like “oops,” “oh shit,” or “dang.” You keep your answers brief so you do not crowd the chat window. You should sound funny, informal, and encouraging to keep the user engaged.\n",
    "\n",
    "knowledge: |\n",
    "  - You have partial understanding of basic code syntax and logic.\n",
    "  - You do NOT know advanced techniques, libraries, or best practices unless taught by the user.\n",
    "  - You do NOT know subtle language features or tricky algorithms unless explicitly explained by the user.\n",
    "  - Your Notebook is your only growing knowledge. You cannot use outside knowledge from the internet or any other data.\n",
    "\n",
    "notebook_instructions: |\n",
    "  After each explanation from the user, you should confirm what you learned, summarize it, and add it to your Notebook. Use only your Notebook to reason in future rounds.\n",
    "\n",
    "global_state_variables: |\n",
    "  You will be given the following global variables on every turn:\n",
    "    - user_code: the current code in the user's editor\n",
    "    - agent_code: your current code\n",
    "    - user_output: what happened when the user ran their code (including errors)\n",
    "    - agent_output: what happened when you ran your code (including errors)\n",
    "  Always read these carefully before starting your reasoning.\n",
    "\"\"\""
   ]
  },
  {
   "cell_type": "code",
   "execution_count": 4,
   "id": "d27ac04f",
   "metadata": {},
   "outputs": [],
   "source": [
    "# GLOBAL VARIABLES\n",
    "\n",
    "problem_statement = \"\"\"\n",
    "# Problem Statement\n",
    "## Description\n",
    "**Nimm** is an ancient game of strategy that is named after the old German word for \"take\". It is also called *Tiouk Tiouk* in West Africa and *Tsynshidzi* in China. Players alternate taking stones until there are zero left. The game of Nimm goes as follows:\n",
    "\n",
    "1. The game starts with a pile of 20 stones between the players\n",
    "2. The two players alternate turns\n",
    "3. On a given turn, a player may take either 1 or 2 stones from the center pile\n",
    "\n",
    "The two players continue until the center pile has run out of stones.\n",
    "\n",
    "The last player to take a stone loses.\n",
    "\n",
    "> We have broken the problem down into three smaller milestones so you can build the solution step by step. Let's start with the first milestone.\n",
    "\n",
    "## Task\n",
    "\n",
    "**Milestone 1**\n",
    "\n",
    "You'll write a `loop` to remove stones from a pile.\n",
    "\n",
    "1. **Start with 20 stones.**\n",
    "\n",
    "2. **Repeat this process until there are zero stones left:**\n",
    "    - Print how many stones are left.  \n",
    "      _Example:_ `There are 20 stones left`\n",
    "    - Ask the user how many stones to remove — using this code:  \n",
    "      ```python\n",
    "      int(input(\"Would you like to remove 1 or 2 stones? \"))\n",
    "      ```\n",
    "    - Subtract that number of stones from the total.\n",
    "    - Add an empty `print()` between turns (to make the output easier to read).\n",
    "\n",
    "3. **End the game when there are no stones left.**  \n",
    "   _Print:_ `Game over`\n",
    "\n",
    "**Important:**  \n",
    "- For now, don't worry about whose turn it is.  \n",
    "- Don't worry about making sure the user enters only 1 or 2 stones — any number is fine in this step.\n",
    "\n",
    "**Example output:**  \n",
    "```\n",
    "There are 20 stones left\n",
    "Would you like to remove 1 or 2 stones? 2\n",
    "\n",
    "There are 18 stones left\n",
    "Would you like to remove 1 or 2 stones? 17\n",
    "\n",
    "There are 1 stones left\n",
    "Would you like to remove 1 or 2 stones? 3\n",
    "\n",
    "Game over\n",
    "```\n",
    "\"\"\"\n",
    "\n",
    "user_code = \"\"\n",
    "agent_code = \"\"\n",
    "user_output = \"\"\n",
    "agent_output = \"\"\n"
   ]
  },
  {
   "cell_type": "code",
   "execution_count": 5,
   "id": "298f3728",
   "metadata": {},
   "outputs": [],
   "source": [
    "messages = [\n",
    "    {\"role\": \"system\", \"content\": system_prompt},\n",
    "    # Global state variables\n",
    "    {\"role\": \"user\", \"content\": f\"\"\"\n",
    "    ```state\n",
    "    [global_state]\n",
    "     \n",
    "    problem_statement: \n",
    "    {problem_statement}\n",
    "\n",
    "    user_code:\n",
    "    {user_code}\n",
    "\n",
    "    agent_code:\n",
    "    {agent_code}\n",
    "\n",
    "    user_output:\n",
    "    {user_output}\n",
    "\n",
    "    agent_output:\n",
    "    {agent_output}\n",
    "\n",
    "    [/global_state]\n",
    "    ```\n",
    "    \"\"\"\n",
    "    }\n",
    "]\n",
    "\n",
    "user_message = [{\"role\": \"user\", \"content\": \"OK, your turn! What would you like to do next?\"}]"
   ]
  },
  {
   "cell_type": "code",
   "execution_count": 6,
   "id": "f3821ea8",
   "metadata": {},
   "outputs": [],
   "source": [
    "messages.extend(user_message)"
   ]
  },
  {
   "cell_type": "code",
   "execution_count": 8,
   "id": "9cfd9c2b",
   "metadata": {},
   "outputs": [],
   "source": [
    "response = call_openai(client, messages, json_mode = False, temperature = 0.7, model = \"gpt-4.1-mini\")"
   ]
  },
  {
   "cell_type": "code",
   "execution_count": 10,
   "id": "f387ae12",
   "metadata": {},
   "outputs": [
    {
     "name": "stdout",
     "output_type": "stream",
     "text": [
      "Alright, I’ll take a stab at Milestone 1!\n",
      "\n",
      "I’ll write a loop that starts with 20 stones, repeatedly asks how many stones to remove, subtracts that number, and stops when stones hit zero or below. I’ll print the messages exactly as the task says, including the empty line between turns.\n",
      "\n",
      "Let me write the code now.\n"
     ]
    }
   ],
   "source": [
    "print(response)"
   ]
  },
  {
   "cell_type": "code",
   "execution_count": null,
   "id": "5764056b",
   "metadata": {},
   "outputs": [],
   "source": []
  }
 ],
 "metadata": {
  "kernelspec": {
   "display_name": "base",
   "language": "python",
   "name": "python3"
  },
  "language_info": {
   "codemirror_mode": {
    "name": "ipython",
    "version": 3
   },
   "file_extension": ".py",
   "mimetype": "text/x-python",
   "name": "python",
   "nbconvert_exporter": "python",
   "pygments_lexer": "ipython3",
   "version": "3.12.2"
  }
 },
 "nbformat": 4,
 "nbformat_minor": 5
}
